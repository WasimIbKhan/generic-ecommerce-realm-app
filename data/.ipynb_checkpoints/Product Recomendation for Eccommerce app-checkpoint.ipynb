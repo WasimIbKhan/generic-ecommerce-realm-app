{
 "cells": [
  {
   "cell_type": "markdown",
   "id": "cbe3eab3",
   "metadata": {},
   "source": [
    "# Eccomerce recomendation System"
   ]
  },
  {
   "cell_type": "markdown",
   "id": "c7879c77",
   "metadata": {},
   "source": [
    "Importing libraries"
   ]
  },
  {
   "cell_type": "code",
   "execution_count": 1,
   "id": "98beef74",
   "metadata": {},
   "outputs": [],
   "source": [
    "import numpy as np\n",
    "import pandas as pd\n",
    "import matplotlib.pyplot as plt\n",
    "\n",
    "# %matplotlib inline\n",
    "plt.style.use(\"ggplot\")\n",
    "\n",
    "import sklearn\n",
    "from sklearn.decomposition import TruncatedSVD"
   ]
  },
  {
   "cell_type": "code",
   "execution_count": null,
   "id": "00372163",
   "metadata": {},
   "outputs": [],
   "source": [
    "amazon_sales_data = pd.read_csv('Amazon_Sales_Data.csv')\n",
    "amazon_sales_data = amazon_sales_data.dropna()\n",
    "amazon_sales_data.head()"
   ]
  }
 ],
 "metadata": {
  "kernelspec": {
   "display_name": "Python 3 (ipykernel)",
   "language": "python",
   "name": "python3"
  },
  "language_info": {
   "codemirror_mode": {
    "name": "ipython",
    "version": 3
   },
   "file_extension": ".py",
   "mimetype": "text/x-python",
   "name": "python",
   "nbconvert_exporter": "python",
   "pygments_lexer": "ipython3",
   "version": "3.11.1"
  }
 },
 "nbformat": 4,
 "nbformat_minor": 5
}
